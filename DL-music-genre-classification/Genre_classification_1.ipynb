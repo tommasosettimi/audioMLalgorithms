{
 "cells": [
  {
   "cell_type": "markdown",
   "metadata": {},
   "source": [
    "# Audio music genre classifier"
   ]
  },
  {
   "cell_type": "markdown",
   "metadata": {},
   "source": [
    "Train a classifier with maximum accuracy measured as Correctly Classified Instances percentage (C.C.I.%) using 10-fold cross-validation applying different Machine Learning algorithms and given data of music genre in a .arff file."
   ]
  },
  {
   "cell_type": "markdown",
   "metadata": {},
   "source": [
    "## Setup / import libraries and data loading"
   ]
  },
  {
   "cell_type": "code",
   "execution_count": 27,
   "metadata": {
    "colab": {
     "base_uri": "https://localhost:8080/",
     "height": 357
    },
    "executionInfo": {
     "elapsed": 8695,
     "status": "error",
     "timestamp": 1679192391487,
     "user": {
      "displayName": "FRANCESCO PAPALEO",
      "userId": "12893991630502204172"
     },
     "user_tz": -60
    },
    "id": "feQ3ppW1oUY-",
    "outputId": "eb6abe0a-115d-4777-b44d-f4ed6749f0b6"
   },
   "outputs": [
    {
     "name": "stdout",
     "output_type": "stream",
     "text": [
      "<class 'pandas.core.frame.DataFrame'>\n",
      "RangeIndex: 800 entries, 0 to 799\n",
      "Columns: 241 entries, highlevel_danceability_value to genre\n",
      "dtypes: float64(237), object(4)\n",
      "memory usage: 1.5+ MB\n"
     ]
    },
    {
     "data": {
      "text/html": [
       "<div>\n",
       "<style scoped>\n",
       "    .dataframe tbody tr th:only-of-type {\n",
       "        vertical-align: middle;\n",
       "    }\n",
       "\n",
       "    .dataframe tbody tr th {\n",
       "        vertical-align: top;\n",
       "    }\n",
       "\n",
       "    .dataframe thead th {\n",
       "        text-align: right;\n",
       "    }\n",
       "</style>\n",
       "<table border=\"1\" class=\"dataframe\">\n",
       "  <thead>\n",
       "    <tr style=\"text-align: right;\">\n",
       "      <th></th>\n",
       "      <th>highlevel_danceability_value</th>\n",
       "      <th>highlevel_equalization_profile_value</th>\n",
       "      <th>highlevel_excitement_value</th>\n",
       "      <th>highlevel_intensity_value</th>\n",
       "      <th>highlevel_speech_music_value</th>\n",
       "      <th>highlevel_voice_instrumental_value</th>\n",
       "      <th>loudness_dynamic_complexity_dvar</th>\n",
       "      <th>loudness_dynamic_complexity_mean</th>\n",
       "      <th>loudness_dynamic_complexity_var</th>\n",
       "      <th>loudness_larm_dvar</th>\n",
       "      <th>...</th>\n",
       "      <th>tonal_chords_strength_dvar</th>\n",
       "      <th>tonal_chords_strength_mean</th>\n",
       "      <th>tonal_chords_strength_var</th>\n",
       "      <th>tonal_dissonance_dvar</th>\n",
       "      <th>tonal_dissonance_mean</th>\n",
       "      <th>tonal_dissonance_var</th>\n",
       "      <th>tonal_key_mode_value</th>\n",
       "      <th>tonal_key_strength_value</th>\n",
       "      <th>tonal_tuning_equal_tempered_deviation_value</th>\n",
       "      <th>genre</th>\n",
       "    </tr>\n",
       "  </thead>\n",
       "  <tbody>\n",
       "    <tr>\n",
       "      <th>0</th>\n",
       "      <td>0.206472</td>\n",
       "      <td>0.372766</td>\n",
       "      <td>0.029087</td>\n",
       "      <td>0.093526</td>\n",
       "      <td>b'music'</td>\n",
       "      <td>b'voice'</td>\n",
       "      <td>-0.411385</td>\n",
       "      <td>0.024215</td>\n",
       "      <td>-0.201421</td>\n",
       "      <td>-0.532833</td>\n",
       "      <td>...</td>\n",
       "      <td>-0.255337</td>\n",
       "      <td>1.140774</td>\n",
       "      <td>-1.490395</td>\n",
       "      <td>0.494393</td>\n",
       "      <td>0.149725</td>\n",
       "      <td>-0.013634</td>\n",
       "      <td>b'minor'</td>\n",
       "      <td>0.526779</td>\n",
       "      <td>-0.205793</td>\n",
       "      <td>b'blu'</td>\n",
       "    </tr>\n",
       "    <tr>\n",
       "      <th>1</th>\n",
       "      <td>-0.368479</td>\n",
       "      <td>0.372766</td>\n",
       "      <td>1.341977</td>\n",
       "      <td>0.093526</td>\n",
       "      <td>b'music'</td>\n",
       "      <td>b'voice'</td>\n",
       "      <td>-0.349921</td>\n",
       "      <td>-0.015672</td>\n",
       "      <td>-0.173045</td>\n",
       "      <td>-0.452769</td>\n",
       "      <td>...</td>\n",
       "      <td>-0.121114</td>\n",
       "      <td>0.497749</td>\n",
       "      <td>-0.901662</td>\n",
       "      <td>0.347729</td>\n",
       "      <td>-0.517640</td>\n",
       "      <td>0.184709</td>\n",
       "      <td>b'major'</td>\n",
       "      <td>-0.129683</td>\n",
       "      <td>-0.667979</td>\n",
       "      <td>b'blu'</td>\n",
       "    </tr>\n",
       "    <tr>\n",
       "      <th>2</th>\n",
       "      <td>-0.631747</td>\n",
       "      <td>0.372766</td>\n",
       "      <td>-1.283803</td>\n",
       "      <td>-1.324366</td>\n",
       "      <td>b'speech'</td>\n",
       "      <td>b'instrumental'</td>\n",
       "      <td>4.235612</td>\n",
       "      <td>5.779127</td>\n",
       "      <td>3.973258</td>\n",
       "      <td>1.713613</td>\n",
       "      <td>...</td>\n",
       "      <td>-0.190639</td>\n",
       "      <td>1.408974</td>\n",
       "      <td>-0.502029</td>\n",
       "      <td>1.174496</td>\n",
       "      <td>-1.454160</td>\n",
       "      <td>2.144489</td>\n",
       "      <td>b'major'</td>\n",
       "      <td>-1.022781</td>\n",
       "      <td>0.937795</td>\n",
       "      <td>b'blu'</td>\n",
       "    </tr>\n",
       "    <tr>\n",
       "      <th>3</th>\n",
       "      <td>-0.190116</td>\n",
       "      <td>0.372766</td>\n",
       "      <td>1.341977</td>\n",
       "      <td>0.093526</td>\n",
       "      <td>b'music'</td>\n",
       "      <td>b'voice'</td>\n",
       "      <td>-0.307576</td>\n",
       "      <td>0.068818</td>\n",
       "      <td>-0.216986</td>\n",
       "      <td>-0.519222</td>\n",
       "      <td>...</td>\n",
       "      <td>0.257633</td>\n",
       "      <td>0.622749</td>\n",
       "      <td>1.399033</td>\n",
       "      <td>0.791524</td>\n",
       "      <td>-0.601227</td>\n",
       "      <td>0.873673</td>\n",
       "      <td>b'major'</td>\n",
       "      <td>0.074454</td>\n",
       "      <td>-0.406373</td>\n",
       "      <td>b'blu'</td>\n",
       "    </tr>\n",
       "    <tr>\n",
       "      <th>4</th>\n",
       "      <td>0.588278</td>\n",
       "      <td>0.372766</td>\n",
       "      <td>1.341977</td>\n",
       "      <td>0.802473</td>\n",
       "      <td>b'music'</td>\n",
       "      <td>b'instrumental'</td>\n",
       "      <td>-0.332032</td>\n",
       "      <td>-1.078238</td>\n",
       "      <td>0.350680</td>\n",
       "      <td>-0.765884</td>\n",
       "      <td>...</td>\n",
       "      <td>-0.309481</td>\n",
       "      <td>1.301291</td>\n",
       "      <td>-0.708195</td>\n",
       "      <td>-0.093155</td>\n",
       "      <td>0.287901</td>\n",
       "      <td>-0.644858</td>\n",
       "      <td>b'major'</td>\n",
       "      <td>0.919307</td>\n",
       "      <td>-0.917709</td>\n",
       "      <td>b'blu'</td>\n",
       "    </tr>\n",
       "  </tbody>\n",
       "</table>\n",
       "<p>5 rows × 241 columns</p>\n",
       "</div>"
      ],
      "text/plain": [
       "   highlevel_danceability_value  highlevel_equalization_profile_value  \\\n",
       "0                      0.206472                              0.372766   \n",
       "1                     -0.368479                              0.372766   \n",
       "2                     -0.631747                              0.372766   \n",
       "3                     -0.190116                              0.372766   \n",
       "4                      0.588278                              0.372766   \n",
       "\n",
       "   highlevel_excitement_value  highlevel_intensity_value  \\\n",
       "0                    0.029087                   0.093526   \n",
       "1                    1.341977                   0.093526   \n",
       "2                   -1.283803                  -1.324366   \n",
       "3                    1.341977                   0.093526   \n",
       "4                    1.341977                   0.802473   \n",
       "\n",
       "  highlevel_speech_music_value highlevel_voice_instrumental_value  \\\n",
       "0                     b'music'                           b'voice'   \n",
       "1                     b'music'                           b'voice'   \n",
       "2                    b'speech'                    b'instrumental'   \n",
       "3                     b'music'                           b'voice'   \n",
       "4                     b'music'                    b'instrumental'   \n",
       "\n",
       "   loudness_dynamic_complexity_dvar  loudness_dynamic_complexity_mean  \\\n",
       "0                         -0.411385                          0.024215   \n",
       "1                         -0.349921                         -0.015672   \n",
       "2                          4.235612                          5.779127   \n",
       "3                         -0.307576                          0.068818   \n",
       "4                         -0.332032                         -1.078238   \n",
       "\n",
       "   loudness_dynamic_complexity_var  loudness_larm_dvar  ...  \\\n",
       "0                        -0.201421           -0.532833  ...   \n",
       "1                        -0.173045           -0.452769  ...   \n",
       "2                         3.973258            1.713613  ...   \n",
       "3                        -0.216986           -0.519222  ...   \n",
       "4                         0.350680           -0.765884  ...   \n",
       "\n",
       "   tonal_chords_strength_dvar  tonal_chords_strength_mean  \\\n",
       "0                   -0.255337                    1.140774   \n",
       "1                   -0.121114                    0.497749   \n",
       "2                   -0.190639                    1.408974   \n",
       "3                    0.257633                    0.622749   \n",
       "4                   -0.309481                    1.301291   \n",
       "\n",
       "   tonal_chords_strength_var  tonal_dissonance_dvar  tonal_dissonance_mean  \\\n",
       "0                  -1.490395               0.494393               0.149725   \n",
       "1                  -0.901662               0.347729              -0.517640   \n",
       "2                  -0.502029               1.174496              -1.454160   \n",
       "3                   1.399033               0.791524              -0.601227   \n",
       "4                  -0.708195              -0.093155               0.287901   \n",
       "\n",
       "   tonal_dissonance_var  tonal_key_mode_value  tonal_key_strength_value  \\\n",
       "0             -0.013634              b'minor'                  0.526779   \n",
       "1              0.184709              b'major'                 -0.129683   \n",
       "2              2.144489              b'major'                 -1.022781   \n",
       "3              0.873673              b'major'                  0.074454   \n",
       "4             -0.644858              b'major'                  0.919307   \n",
       "\n",
       "   tonal_tuning_equal_tempered_deviation_value   genre  \n",
       "0                                    -0.205793  b'blu'  \n",
       "1                                    -0.667979  b'blu'  \n",
       "2                                     0.937795  b'blu'  \n",
       "3                                    -0.406373  b'blu'  \n",
       "4                                    -0.917709  b'blu'  \n",
       "\n",
       "[5 rows x 241 columns]"
      ]
     },
     "execution_count": 27,
     "metadata": {},
     "output_type": "execute_result"
    }
   ],
   "source": [
    "import numpy as np\n",
    "import pandas as pd\n",
    "from sklearn.feature_selection import SelectPercentile, chi2\n",
    "from sklearn.metrics import accuracy_score, precision_score\n",
    "from scipy.io import arff\n",
    "from sklearn.pipeline import Pipeline\n",
    "from sklearn.preprocessing import OneHotEncoder, StandardScaler, LabelEncoder\n",
    "from sklearn.impute import SimpleImputer\n",
    "from sklearn.linear_model import LogisticRegression\n",
    "from sklearn.svm import SVC\n",
    "from sklearn.compose import ColumnTransformer, make_column_selector as selector\n",
    "from sklearn.model_selection import (\n",
    "    KFold,\n",
    "    cross_val_score,\n",
    "    train_test_split\n",
    ")\n",
    "\n",
    "#genre music classification using LR and SVM\n",
    "data = arff.loadarff('./assets/genre.arff')\n",
    "dataframe = pd.DataFrame(data[0])"
   ]
  },
  {
   "cell_type": "markdown",
   "metadata": {},
   "source": [
    "## Pre-processing\n",
    "Converting feature type and scaling values to be usable by the model"
   ]
  },
  {
   "cell_type": "code",
   "execution_count": 39,
   "metadata": {},
   "outputs": [
    {
     "name": "stdout",
     "output_type": "stream",
     "text": [
      "Unique genres labels: [b'blu' b'cla' b'cou' b'dis' b'hip' b'jaz' b'met' b'pop' b'reg' b'roc']\n",
      "Unique genres number: 10\n",
      "Number of features: 240\n"
     ]
    }
   ],
   "source": [
    "genre = dataframe['genre']\n",
    "unique_genres = genre.unique()\n",
    "print('Unique genres labels:', unique_genres)\n",
    "print('Unique genres number:', len(unique_genres))\n",
    "X = dataframe.drop(['genre'], axis=1)\n",
    "print('Number of features:', len(X.columns))\n",
    "\n",
    "# Numerical and categorical features data splitting\n",
    "categorical_features = X.select_dtypes(include='object')\n",
    "numeric_features = X.select_dtypes(include='float64')\n",
    "\n",
    "# Column transformers definition\n",
    "numeric_transformer = Pipeline(\n",
    "    steps=[(\"imputer\", SimpleImputer(strategy=\"median\")),\n",
    "           (\"scaler\", StandardScaler())]\n",
    ")\n",
    "categorical_transformer = Pipeline(\n",
    "    steps=[\n",
    "        (\"encoder\", OneHotEncoder(handle_unknown=\"ignore\")),\n",
    "        (\"selector\", SelectPercentile(chi2, percentile=50)),\n",
    "    ]\n",
    ")\n",
    "preprocessor = ColumnTransformer(\n",
    "    transformers=[\n",
    "        (\"num\", numeric_transformer, selector(dtype_exclude=\"object\")),\n",
    "        (\"cat\", categorical_transformer, selector(dtype_include=\"object\")),\n",
    "    ]\n",
    ")\n",
    "\n",
    "label_encoder = LabelEncoder()\n",
    "encoded_y = label_encoder.fit_transform(y)\n",
    "label_encoder_name_mapping = dict(zip(label_encoder.classes_,\n",
    "                                         label_encoder.fit_transform(label_encoder.classes_)))"
   ]
  },
  {
   "cell_type": "markdown",
   "metadata": {},
   "source": [
    "## Logistic Regression"
   ]
  },
  {
   "cell_type": "code",
   "execution_count": 38,
   "metadata": {},
   "outputs": [
    {
     "name": "stdout",
     "output_type": "stream",
     "text": [
      "81.37500000000001 % of accuracy with standard deviation of 5.137180647008628 %\n"
     ]
    }
   ],
   "source": [
    "clf = Pipeline(\n",
    "    \n",
    "    steps=[(\"preprocessor\", preprocessor),\n",
    "           (\"classifier\", LogisticRegression(max_iter = 1000))]\n",
    ")\n",
    "\n",
    "X_train, X_test, y_train, y_test = train_test_split(\n",
    "    X, encoded_y, test_size = 0.2, random_state = 42)\n",
    "\n",
    "clf.fit(X_train, y_train)\n",
    "scores = cross_val_score(clf, X, encoded_y, cv = 10)\n",
    "scores_mean = scores.mean() * 100 # Accuracy\n",
    "scores_std = scores.std() * 100 # Deviation\n",
    "print(f\"{scores_mean} % of accuracy with standard deviation of {scores_std} %\")"
   ]
  },
  {
   "cell_type": "code",
   "execution_count": 40,
   "metadata": {},
   "outputs": [
    {
     "name": "stdout",
     "output_type": "stream",
     "text": [
      "Logistic Regression top 5 most important features:\n",
      "                               feature      coef  abs_coef\n",
      "10          loudness_replay_gain_value -1.087578  1.087578\n",
      "85          spectral_barkbands_21_mean  0.722917  0.722917\n",
      "123  spectral_energybandratio_low_dvar  0.556905  0.556905\n",
      "151              spectral_mfcc_02_mean  0.541051  0.541051\n",
      "13                 loudness_vicker_var -0.536735  0.536735\n"
     ]
    }
   ],
   "source": [
    "# Get the features and coefficients\n",
    "num_names = clf.named_steps['preprocessor'].transformers_[0][1].get_feature_names_out()\n",
    "cat_names = clf.named_steps['preprocessor'].transformers_[1][1].get_feature_names_out()\n",
    "feature_names = np.concatenate([num_names, cat_names])\n",
    "coef = clf.named_steps['classifier'].coef_\n",
    "\n",
    "# Create a pandas dataframe with the feature names and coefficients and sort it \n",
    "coef_df = pd.DataFrame({\"feature\": feature_names, \"coef\": coef[0]})\n",
    "coef_df[\"abs_coef\"] = np.abs(coef_df[\"coef\"])\n",
    "coef_df = coef_df.sort_values(\"abs_coef\", ascending=False)\n",
    "\n",
    "# Print the top 5 most important features\n",
    "print(\"Logistic Regression top 5 most important features:\")\n",
    "print(coef_df.head(5))"
   ]
  },
  {
   "cell_type": "markdown",
   "metadata": {},
   "source": [
    "## Support Vector Machines with KFold cross-validation"
   ]
  },
  {
   "cell_type": "code",
   "execution_count": 35,
   "metadata": {},
   "outputs": [
    {
     "name": "stdout",
     "output_type": "stream",
     "text": [
      "81.24999999999996 % accuracy with a standard deviation of 4.031128874149275 %\n"
     ]
    }
   ],
   "source": [
    "# Pipeline building and k-fold cross-validation splitter\n",
    "clf = Pipeline(\n",
    "    steps=[(\"preprocessor\", preprocessor),\n",
    "           (\"classifier\", SVC(kernel='linear', C=1))]\n",
    ")\n",
    "X_train, X_test, y_train, y_test = train_test_split(\n",
    "    X, encoded_y, test_size=0.2, random_state=0)\n",
    "k = 10 # Ten-fold cross-validation as required from the assignment\n",
    "kf = KFold(n_splits=k, shuffle = True, random_state = 42)\n",
    "scores = []\n",
    "kf.get_n_splits(X)\n",
    "for i, (train_index, test_index) in enumerate(kf.split(X)):\n",
    "    clf.fit(X_train, y_train)\n",
    "    \n",
    "    score = cross_val_score(clf, X, encoded_y, cv = 10)\n",
    "    scores.append(score)\n",
    "scores_mean = np.mean(scores) * 100 # Accuracy\n",
    "scores_std = np.std(scores) * 100 # Deviation\n",
    "print(f\"{scores_mean} % accuracy with a standard deviation of {scores_std} %\")"
   ]
  },
  {
   "cell_type": "code",
   "execution_count": 41,
   "metadata": {},
   "outputs": [
    {
     "name": "stdout",
     "output_type": "stream",
     "text": [
      "Support vector machines top 5 most important features::\n",
      "                               feature      coef  abs_coef\n",
      "10          loudness_replay_gain_value -1.087578  1.087578\n",
      "85          spectral_barkbands_21_mean  0.722917  0.722917\n",
      "123  spectral_energybandratio_low_dvar  0.556905  0.556905\n",
      "151              spectral_mfcc_02_mean  0.541051  0.541051\n",
      "13                 loudness_vicker_var -0.536735  0.536735\n"
     ]
    }
   ],
   "source": [
    "# Get the features and coefficients\n",
    "coef = clf.named_steps['classifier'].coef_\n",
    "coef_df = pd.DataFrame({\"feature\": feature_names, \"coef\": coef[0]})\n",
    "# Create a pandas dataframe with the feature names and coefficients and sort it \n",
    "coef_df[\"abs_coef\"] = np.abs(coef_df[\"coef\"])\n",
    "coef_df = coef_df.sort_values(\"abs_coef\", ascending=False)\n",
    "# Print the top 5 most important features\n",
    "print(\"Support vector machines top 5 most important features::\")\n",
    "print(coef_df.head(5))"
   ]
  },
  {
   "cell_type": "code",
   "execution_count": null,
   "metadata": {},
   "outputs": [],
   "source": []
  }
 ],
 "metadata": {
  "colab": {
   "provenance": []
  },
  "kernelspec": {
   "display_name": "Python 3 (ipykernel)",
   "language": "python",
   "name": "python3"
  },
  "language_info": {
   "codemirror_mode": {
    "name": "ipython",
    "version": 3
   },
   "file_extension": ".py",
   "mimetype": "text/x-python",
   "name": "python",
   "nbconvert_exporter": "python",
   "pygments_lexer": "ipython3",
   "version": "3.9.5"
  }
 },
 "nbformat": 4,
 "nbformat_minor": 1
}
