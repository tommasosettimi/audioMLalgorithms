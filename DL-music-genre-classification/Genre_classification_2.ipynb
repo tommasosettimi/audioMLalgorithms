{
 "cells": [
  {
   "cell_type": "markdown",
   "metadata": {},
   "source": [
    "## Testing different implementations with sklearn\n",
    "\n"
   ]
  },
  {
   "cell_type": "markdown",
   "metadata": {},
   "source": [
    "## Setup"
   ]
  },
  {
   "cell_type": "code",
   "execution_count": 14,
   "metadata": {
    "colab": {
     "base_uri": "https://localhost:8080/",
     "height": 357
    },
    "executionInfo": {
     "elapsed": 8695,
     "status": "error",
     "timestamp": 1679192391487,
     "user": {
      "displayName": "FRANCESCO PAPALEO",
      "userId": "12893991630502204172"
     },
     "user_tz": -60
    },
    "id": "feQ3ppW1oUY-",
    "outputId": "eb6abe0a-115d-4777-b44d-f4ed6749f0b6"
   },
   "outputs": [],
   "source": [
    "import numpy as np\n",
    "import pandas as pd\n",
    "import seaborn as sns\n",
    "\n",
    "from scipy.io import arff\n",
    "\n",
    "from sklearn import preprocessing\n",
    "from sklearn.model_selection import train_test_split\n"
   ]
  },
  {
   "cell_type": "markdown",
   "metadata": {},
   "source": [
    "## Loading Data"
   ]
  },
  {
   "cell_type": "code",
   "execution_count": 15,
   "metadata": {
    "executionInfo": {
     "elapsed": 6,
     "status": "aborted",
     "timestamp": 1679192391488,
     "user": {
      "displayName": "FRANCESCO PAPALEO",
      "userId": "12893991630502204172"
     },
     "user_tz": -60
    },
    "id": "ggf1oCrToUZA"
   },
   "outputs": [
    {
     "name": "stdout",
     "output_type": "stream",
     "text": [
      "<class 'pandas.core.frame.DataFrame'>\n",
      "RangeIndex: 800 entries, 0 to 799\n",
      "Columns: 241 entries, highlevel_danceability_value to genre\n",
      "dtypes: float64(237), object(4)\n",
      "memory usage: 1.5+ MB\n"
     ]
    }
   ],
   "source": [
    "data = scipy.io.arff.loadarff('./assets/genre.arff')\n",
    "df = pd.DataFrame(data[0])\n",
    "\n",
    "df.head()\n",
    "df.describe()\n",
    "df.info()"
   ]
  },
  {
   "cell_type": "markdown",
   "metadata": {},
   "source": [
    "## Preprocessing\n",
    "Converting feature type and scaling values to be usable by the model"
   ]
  },
  {
   "cell_type": "code",
   "execution_count": 16,
   "metadata": {},
   "outputs": [
    {
     "name": "stdout",
     "output_type": "stream",
     "text": [
      "Unique genres labels: [b'blu' b'cla' b'cou' b'dis' b'hip' b'jaz' b'met' b'pop' b'reg' b'roc']\n",
      "Number of features: 240\n",
      "Features: ['highlevel_danceability_value', 'highlevel_equalization_profile_value', 'highlevel_excitement_value', 'highlevel_intensity_value', 'loudness_dynamic_complexity_dvar', 'loudness_dynamic_complexity_mean', 'loudness_dynamic_complexity_var', 'loudness_larm_dvar', 'loudness_larm_mean', 'loudness_larm_var', 'loudness_replay_gain_value', 'loudness_vicker_dvar', 'loudness_vicker_mean', 'loudness_vicker_var', 'rhythm_beats_loudness_bass_dvar', 'rhythm_beats_loudness_bass_mean', 'rhythm_beats_loudness_bass_var', 'rhythm_beats_loudness_dvar', 'rhythm_beats_loudness_mean', 'rhythm_beats_loudness_var', 'rhythm_onset_rate_value', 'spectral_barkbands_00_dvar', 'spectral_barkbands_00_mean', 'spectral_barkbands_00_var', 'spectral_barkbands_01_dvar', 'spectral_barkbands_01_mean', 'spectral_barkbands_01_var', 'spectral_barkbands_02_dvar', 'spectral_barkbands_02_mean', 'spectral_barkbands_02_var', 'spectral_barkbands_03_dvar', 'spectral_barkbands_03_mean', 'spectral_barkbands_03_var', 'spectral_barkbands_04_dvar', 'spectral_barkbands_04_mean', 'spectral_barkbands_04_var', 'spectral_barkbands_05_dvar', 'spectral_barkbands_05_mean', 'spectral_barkbands_05_var', 'spectral_barkbands_06_dvar', 'spectral_barkbands_06_mean', 'spectral_barkbands_06_var', 'spectral_barkbands_07_dvar', 'spectral_barkbands_07_mean', 'spectral_barkbands_07_var', 'spectral_barkbands_08_dvar', 'spectral_barkbands_08_mean', 'spectral_barkbands_08_var', 'spectral_barkbands_09_dvar', 'spectral_barkbands_09_mean', 'spectral_barkbands_09_var', 'spectral_barkbands_10_dvar', 'spectral_barkbands_10_mean', 'spectral_barkbands_10_var', 'spectral_barkbands_11_dvar', 'spectral_barkbands_11_mean', 'spectral_barkbands_11_var', 'spectral_barkbands_12_dvar', 'spectral_barkbands_12_mean', 'spectral_barkbands_12_var', 'spectral_barkbands_13_dvar', 'spectral_barkbands_13_mean', 'spectral_barkbands_13_var', 'spectral_barkbands_14_dvar', 'spectral_barkbands_14_mean', 'spectral_barkbands_14_var', 'spectral_barkbands_15_dvar', 'spectral_barkbands_15_mean', 'spectral_barkbands_15_var', 'spectral_barkbands_16_dvar', 'spectral_barkbands_16_mean', 'spectral_barkbands_16_var', 'spectral_barkbands_17_dvar', 'spectral_barkbands_17_mean', 'spectral_barkbands_17_var', 'spectral_barkbands_18_dvar', 'spectral_barkbands_18_mean', 'spectral_barkbands_18_var', 'spectral_barkbands_19_dvar', 'spectral_barkbands_19_mean', 'spectral_barkbands_19_var', 'spectral_barkbands_20_dvar', 'spectral_barkbands_20_mean', 'spectral_barkbands_20_var', 'spectral_barkbands_21_dvar', 'spectral_barkbands_21_mean', 'spectral_barkbands_21_var', 'spectral_barkbands_22_dvar', 'spectral_barkbands_22_mean', 'spectral_barkbands_22_var', 'spectral_barkbands_23_dvar', 'spectral_barkbands_23_mean', 'spectral_barkbands_23_var', 'spectral_barkbands_24_dvar', 'spectral_barkbands_24_mean', 'spectral_barkbands_24_var', 'spectral_barkbands_25_dvar', 'spectral_barkbands_25_mean', 'spectral_barkbands_25_var', 'spectral_barkbands_kurtosis_dvar', 'spectral_barkbands_kurtosis_mean', 'spectral_barkbands_kurtosis_var', 'spectral_barkbands_skewness_dvar', 'spectral_barkbands_skewness_mean', 'spectral_barkbands_skewness_var', 'spectral_barkbands_spread_dvar', 'spectral_barkbands_spread_mean', 'spectral_barkbands_spread_var', 'spectral_centroid_dvar', 'spectral_centroid_mean', 'spectral_centroid_var', 'spectral_crest_dvar', 'spectral_crest_mean', 'spectral_crest_var', 'spectral_decrease_dvar', 'spectral_decrease_mean', 'spectral_decrease_var', 'spectral_energy_dvar', 'spectral_energy_mean', 'spectral_energy_var', 'spectral_energybandratio_high_dvar', 'spectral_energybandratio_high_mean', 'spectral_energybandratio_high_var', 'spectral_energybandratio_low_dvar', 'spectral_energybandratio_low_mean', 'spectral_energybandratio_low_var', 'spectral_energybandratio_middle_high_dvar', 'spectral_energybandratio_middle_high_mean', 'spectral_energybandratio_middle_high_var', 'spectral_energybandratio_middle_low_dvar', 'spectral_energybandratio_middle_low_mean', 'spectral_energybandratio_middle_low_var', 'spectral_flatness_db_dvar', 'spectral_flatness_db_mean', 'spectral_flatness_db_var', 'spectral_flux_dvar', 'spectral_flux_mean', 'spectral_flux_var', 'spectral_hfc_dvar', 'spectral_hfc_mean', 'spectral_hfc_var', 'spectral_kurtosis_dvar', 'spectral_kurtosis_mean', 'spectral_kurtosis_var', 'spectral_mfcc_00_dvar', 'spectral_mfcc_00_mean', 'spectral_mfcc_00_var', 'spectral_mfcc_01_dvar', 'spectral_mfcc_01_mean', 'spectral_mfcc_01_var', 'spectral_mfcc_02_dvar', 'spectral_mfcc_02_mean', 'spectral_mfcc_02_var', 'spectral_mfcc_03_dvar', 'spectral_mfcc_03_mean', 'spectral_mfcc_03_var', 'spectral_mfcc_04_dvar', 'spectral_mfcc_04_mean', 'spectral_mfcc_04_var', 'spectral_mfcc_05_dvar', 'spectral_mfcc_05_mean', 'spectral_mfcc_05_var', 'spectral_mfcc_06_dvar', 'spectral_mfcc_06_mean', 'spectral_mfcc_06_var', 'spectral_mfcc_07_dvar', 'spectral_mfcc_07_mean', 'spectral_mfcc_07_var', 'spectral_mfcc_08_dvar', 'spectral_mfcc_08_mean', 'spectral_mfcc_08_var', 'spectral_mfcc_09_dvar', 'spectral_mfcc_09_mean', 'spectral_mfcc_09_var', 'spectral_mfcc_10_dvar', 'spectral_mfcc_10_mean', 'spectral_mfcc_10_var', 'spectral_mfcc_11_dvar', 'spectral_mfcc_11_mean', 'spectral_mfcc_11_var', 'spectral_mfcc_12_dvar', 'spectral_mfcc_12_mean', 'spectral_mfcc_12_var', 'spectral_pitch_histogram_spread_value', 'spectral_pitch_instantaneous_confidence_dvar', 'spectral_pitch_instantaneous_confidence_mean', 'spectral_pitch_instantaneous_confidence_var', 'spectral_pitch_salience_dvar', 'spectral_pitch_salience_mean', 'spectral_pitch_salience_var', 'spectral_rms_dvar', 'spectral_rms_mean', 'spectral_rms_var', 'spectral_rolloff_dvar', 'spectral_rolloff_mean', 'spectral_rolloff_var', 'spectral_silence_rate_20dB_dvar', 'spectral_silence_rate_20dB_mean', 'spectral_silence_rate_20dB_var', 'spectral_silence_rate_30dB_dvar', 'spectral_silence_rate_30dB_mean', 'spectral_silence_rate_30dB_var', 'spectral_silence_rate_60dB_dvar', 'spectral_silence_rate_60dB_mean', 'spectral_silence_rate_60dB_var', 'spectral_skewness_dvar', 'spectral_skewness_mean', 'spectral_skewness_var', 'spectral_spread_dvar', 'spectral_spread_mean', 'spectral_spread_var', 'spectral_strongpeak_dvar', 'spectral_strongpeak_mean', 'spectral_strongpeak_var', 'temporal_zerocrossingrate_dvar', 'temporal_zerocrossingrate_mean', 'temporal_zerocrossingrate_var', 'tempotap_bpm_estimates_dvar', 'tempotap_bpm_estimates_mean', 'tempotap_bpm_estimates_var', 'tempotap_bpm_value', 'timbral_complexity_dvar', 'timbral_complexity_mean', 'timbral_complexity_var', 'tonal_chords_changes_rate_value', 'tonal_chords_dissonance_dvar', 'tonal_chords_dissonance_mean', 'tonal_chords_dissonance_var', 'tonal_chords_number_rate_value', 'tonal_chords_strength_dvar', 'tonal_chords_strength_mean', 'tonal_chords_strength_var', 'tonal_dissonance_dvar', 'tonal_dissonance_mean', 'tonal_dissonance_var', 'tonal_key_strength_value', 'tonal_tuning_equal_tempered_deviation_value', 'highlevel_speech_music_value', 'highlevel_voice_instrumental_value', 'tonal_key_mode_value']\n"
     ]
    }
   ],
   "source": [
    "df_target = df['genre']\n",
    "unique_genres = df_target.unique()\n",
    "print('Unique genres labels:', unique_genres)\n",
    "\n",
    "df_features = df.drop(['genre'], axis=1)\n",
    "\n",
    "df_numerical = df_features.select_dtypes(include='float64')\n",
    "df_categorical = df_features.select_dtypes(include='object')\n",
    "\n",
    "numerical_features = df_numerical.columns.to_list()\n",
    "categorical_features = df_categorical.columns.to_list()\n",
    "\n",
    "features_list = numerical_features + categorical_features\n",
    "\n",
    "print('Number of features:', len(features_list))\n",
    "print('Features:', features_list)"
   ]
  },
  {
   "cell_type": "code",
   "execution_count": 17,
   "metadata": {},
   "outputs": [
    {
     "name": "stdout",
     "output_type": "stream",
     "text": [
      "Processed features shape: (800, 243)\n",
      "X_train shape: (640, 243)\n",
      "y_train_one_hot shape: (640, 10)\n",
      "X_test shape: (160, 243)\n",
      "y_test_one_hot shape: (160, 10)\n"
     ]
    }
   ],
   "source": [
    "encoder = preprocessing.OneHotEncoder()\n",
    "encoded_categorical = encoder.fit_transform(df_categorical)\n",
    "\n",
    "scaler = preprocessing.StandardScaler()\n",
    "scaled_numerical = scaler.fit_transform(df_numerical)\n",
    "\n",
    "processed_features = np.concatenate((scaled_numerical, encoded_categorical.toarray()), axis=1)\n",
    "print('Processed features shape:', processed_features.shape)\n",
    "\n",
    "label_encoder = preprocessing.LabelEncoder()\n",
    "encoded_target = label_encoder.fit_transform(df_target)\n",
    "\n",
    "y_one_hot = to_categorical(encoded_target, num_classes=10)\n",
    "\n",
    "X_train, X_test, y_train_one_hot, y_test_one_hot = train_test_split(processed_features, y_one_hot, test_size=0.2, random_state=42)\n",
    "\n",
    "print('X_train shape:', X_train.shape)\n",
    "print('y_train_one_hot shape:', y_train_one_hot.shape)\n",
    "print('X_test shape:', X_test.shape)\n",
    "print('y_test_one_hot shape:', y_test_one_hot.shape)"
   ]
  },
  {
   "cell_type": "markdown",
   "metadata": {},
   "source": [
    "## K-fold cross-validation with Support Vector Machines"
   ]
  },
  {
   "cell_type": "code",
   "execution_count": 18,
   "metadata": {},
   "outputs": [
    {
     "name": "stdout",
     "output_type": "stream",
     "text": [
      "Most common features: [('loudness_vicker_dvar', 20), ('loudness_vicker_var', 15), ('loudness_replay_gain_value', 14), ('tonal_chords_strength_mean', 10), ('tonal_key_strength_value', 8)]\n",
      "Mean Accuracy score: 82.0 %\n",
      "Standard deviation of Accuracy score: 2.968585521759479 %\n"
     ]
    }
   ],
   "source": [
    "# Initialize an empty list to store the accuracy scores\n",
    "scores = []\n",
    "coefficients = np.zeros((45, 243))\n",
    "\n",
    "# Define the number of folds for k-fold cross-validation\n",
    "k = 10\n",
    "\n",
    "# Initialize a k-fold cross-validation splitter\n",
    "kf = KFold(n_splits=k, shuffle=True, random_state=42)\n",
    "# clf = SVC(gamma='auto')\n",
    "clf = SVC(kernel='linear')\n",
    "\n",
    "# Iterate over the folds and train/test the model\n",
    "for train_index, test_index in kf.split(processed_features):\n",
    "    X_train, X_test = processed_features[train_index], processed_features[test_index]\n",
    "    y_train, y_test = encoded_target[train_index], encoded_target[test_index]\n",
    "\n",
    "    # Fit the model to the training data for this fold\n",
    "    clf.fit(X_train, y_train)\n",
    "\n",
    "    coefficients += np.abs(clf.coef_)\n",
    "    # print('Coefficients shape:', clf.coef_.shape)\n",
    "\n",
    "    # Evaluate the model on the test data for this fold and compute the accuracy score\n",
    "    y_pred = clf.predict(X_test)\n",
    "\n",
    "    score = accuracy_score(y_test, y_pred)\n",
    "    scores.append(score)\n",
    "\n",
    "num = df_numerical.columns.to_list()  \n",
    "cat = df_categorical.columns.to_list()\n",
    "feat_list = num + cat\n",
    "\n",
    "most_used_feat = np.argsort(coefficients, axis=1)\n",
    "counter = []\n",
    "\n",
    "for classifier in most_used_feat:\n",
    "    for top_feature_classifier in classifier[::-1][:5]:\n",
    "        counter.append(feat_list[top_feature_classifier])\n",
    "\n",
    "counter = collections.Counter(counter)\n",
    "most_common = counter.most_common(5)\n",
    "print('Most common features:', most_common)\n",
    "\n",
    "mean_score = np.mean(scores)\n",
    "std_score = np.std(scores)\n",
    "\n",
    "print('Mean Accuracy score:', mean_score * 100, '%')\n",
    "print('Standard deviation of Accuracy score:', std_score * 100, '%')"
   ]
  },
  {
   "cell_type": "markdown",
   "metadata": {},
   "source": [
    "## K-fold cross-validation with scikit-learn MLPClassifier"
   ]
  },
  {
   "cell_type": "code",
   "execution_count": 22,
   "metadata": {},
   "outputs": [
    {
     "name": "stdout",
     "output_type": "stream",
     "text": [
      "Mean C.C.I.%: 76.0 %\n",
      "Standard deviation of C.C.I.%: 6.749999999999999 %\n",
      "Confidence interval: (0.7117134088482013, 0.8082865911517987)\n"
     ]
    }
   ],
   "source": [
    "# Initialize an empty list to store the accuracy scores\n",
    "scores = []\n",
    "\n",
    "# Define the number of folds for k-fold cross-validation\n",
    "k = 10\n",
    "\n",
    "# Initialize a k-fold cross-validation splitter\n",
    "kf = KFold(n_splits=k, shuffle=True, random_state=42)\n",
    "\n",
    "# Define the neural network model\n",
    "model = MLPClassifier(hidden_layer_sizes=(64,32), max_iter=500, solver='adam', activation='relu', random_state=0)\n",
    "\n",
    "# Iterate over the folds and train/test the model\n",
    "for train_index, test_index in kf.split(processed_features):\n",
    "    # Split the data into training and test sets for this fold\n",
    "    X_train, X_test = processed_features[train_index], processed_features[test_index]\n",
    "    y_train, y_test = y_one_hot[train_index], y_one_hot[test_index]\n",
    "    \n",
    "    # Fit the model to the training data for this fold\n",
    "    model.fit(X_train, y_train)\n",
    "    \n",
    "    # Evaluate the model on the test data for this fold and compute the accuracy score\n",
    "    y_pred = model.predict(X_test)\n",
    "    y_pred_classes = np.argmax(y_pred, axis=1)\n",
    "    score = accuracy_score(np.argmax(y_test, axis=1), y_pred_classes)\n",
    "    scores.append(score)\n",
    "\n",
    "# Compute the mean and standard deviation of the accuracy scores\n",
    "mean_score = np.mean(scores)\n",
    "std_score = np.std(scores)\n",
    "\n",
    "# Compute the 95% confidence interval for the mean accuracy score\n",
    "ci = t.interval(0.95, k-1, loc=mean_score, scale=std_score/np.sqrt(k))\n",
    "\n",
    "print('Mean C.C.I.%:', mean_score * 100, '%')\n",
    "print('Standard deviation of C.C.I.%:', std_score * 100, '%')\n",
    "print('Confidence interval:', ci)"
   ]
  },
  {
   "cell_type": "markdown",
   "metadata": {},
   "source": [
    "## K-fold cross-validation with Keras"
   ]
  },
  {
   "cell_type": "code",
   "execution_count": 23,
   "metadata": {},
   "outputs": [
    {
     "name": "stdout",
     "output_type": "stream",
     "text": [
      "3/3 [==============================] - 0s 2ms/step\n",
      "3/3 [==============================] - 0s 2ms/step\n",
      "3/3 [==============================] - 0s 2ms/step\n",
      "3/3 [==============================] - 0s 2ms/step\n",
      "3/3 [==============================] - 0s 2ms/step\n",
      "3/3 [==============================] - 0s 2ms/step\n",
      "3/3 [==============================] - 0s 2ms/step\n",
      "3/3 [==============================] - 0s 2ms/step\n",
      "3/3 [==============================] - 0s 2ms/step\n",
      "3/3 [==============================] - 0s 2ms/step\n",
      "Mean C.C.I.%: 0.9775\n",
      "Standard deviation of C.C.I.%: 0.06344288770224761\n",
      "Confidence interval: (0.9321156921486237, 1.0228843078513763)\n"
     ]
    }
   ],
   "source": [
    "# Initialize an empty list to store the accuracy scores\n",
    "scores = []\n",
    "\n",
    "# Define the number of folds for k-fold cross-validation\n",
    "k = 10\n",
    "\n",
    "# Initialize a k-fold cross-validation splitter\n",
    "kf = KFold(n_splits=k, shuffle=True, random_state=42)\n",
    "\n",
    "# Define the model architecture outside the loop\n",
    "model = keras.Sequential([\n",
    "    keras.layers.Dense(64, input_shape=(processed_features.shape[1],), activation='relu'),\n",
    "    keras.layers.Dense(32, activation='relu'),\n",
    "    keras.layers.Dense(10, activation='softmax')\n",
    "])\n",
    "\n",
    "# Compile the model\n",
    "model.compile(loss='categorical_crossentropy', optimizer='adam', metrics=['accuracy'])\n",
    "\n",
    "@tf.function\n",
    "def predict(model, X):\n",
    "    return model(X)\n",
    "\n",
    "# Iterate over the folds and train/test the model\n",
    "for train_index, test_index in kf.split(processed_features):\n",
    "    # Split the data into training and test sets for this fold\n",
    "    X_train, X_test = processed_features[train_index], processed_features[test_index]\n",
    "    y_train, y_test = encoded_target[train_index], encoded_target[test_index]\n",
    "    \n",
    "    # Convert the encoded target labels to one-hot encoded format\n",
    "    y_train_one_hot = to_categorical(y_train, num_classes=10)\n",
    "    y_test_one_hot = to_categorical(y_test, num_classes=10)\n",
    "    \n",
    "    # Fit the model to the training data for this fold\n",
    "    model.fit(X_train, y_train_one_hot, batch_size=32, epochs=25, verbose=0)\n",
    "    \n",
    "    # Evaluate the model on the test data for this fold and compute the accuracy score\n",
    "    y_pred = model.predict(X_test)\n",
    "    y_pred_classes = np.argmax(y_pred, axis=1)\n",
    "    score = accuracy_score(y_test, y_pred_classes)\n",
    "    scores.append(score)\n",
    "\n",
    "mean_score = np.mean(scores)\n",
    "std_score = np.std(scores)\n",
    "\n",
    "# Compute the 95% confidence interval of the C.C.I.% (percentage of correctly classified instances)\n",
    "ci = t.interval(confidence=0.95, df=k-1, loc=mean_score, scale=std_score/np.sqrt(k))\n",
    "\n",
    "print('Mean C.C.I.%:', mean_score)\n",
    "print('Standard deviation of C.C.I.%:', std_score)\n",
    "print('Confidence interval:', ci)"
   ]
  },
  {
   "cell_type": "markdown",
   "metadata": {},
   "source": [
    "## LinearSVM "
   ]
  },
  {
   "cell_type": "code",
   "execution_count": 32,
   "metadata": {},
   "outputs": [
    {
     "name": "stdout",
     "output_type": "stream",
     "text": [
      "Top 5 most important features:\n",
      "Feature name: spectral_energybandratio_middle_high_var Coefficient: 0.057474102911797983\n",
      "Feature name: spectral_flux_mean Coefficient: 0.05740200509376051\n",
      "Feature name: spectral_mfcc_01_mean Coefficient: 0.053137279287320295\n",
      "Feature name: spectral_mfcc_02_var Coefficient: 0.04598652450763889\n",
      "Feature name: spectral_barkbands_14_mean Coefficient: 0.04405639559329348\n",
      "Mean Accuracy score: 82.75 %\n",
      "Standard deviation of Accuracy score: 4.286607049870561 %\n"
     ]
    }
   ],
   "source": [
    "# Initialize an empty list to store the accuracy scores\n",
    "scores = []\n",
    "coefficients = np.zeros((10, 243))\n",
    "\n",
    "# Define the number of folds for k-fold cross-validation\n",
    "k = 10\n",
    "\n",
    "# Initialize a k-fold cross-validation splitter\n",
    "kf = KFold(n_splits=k, shuffle=True, random_state=42)\n",
    "model = LinearSVC(C=0.1, max_iter=1000, random_state=42, dual=False)\n",
    "\n",
    "# Iterate over the folds and train/test the model\n",
    "for train_index, test_index in kf.split(processed_features):\n",
    "    X_train, X_test = processed_features[train_index], processed_features[test_index]\n",
    "    y_train, y_test = encoded_target[train_index], encoded_target[test_index]\n",
    "\n",
    "    # Fit the model to the training data for this fold\n",
    "    model.fit(X_train, y_train)\n",
    "\n",
    "    # Evaluate the model on the test data for this fold and compute the accuracy score\n",
    "    y_pred = model.predict(X_test)\n",
    "\n",
    "    score = accuracy_score(y_test, y_pred)\n",
    "    scores.append(score)\n",
    "\n",
    "coefficients = model.coef_\n",
    "\n",
    "top_indices = np.argsort(coefficients.mean(axis=0))[::-1][:5]\n",
    "\n",
    "print(\"Top 5 most important features:\")\n",
    "for i in top_indices:\n",
    "    print('Feature name:', features_list[i], 'Coefficient:', coefficients.mean(axis=0)[i])\n",
    "\n",
    "mean_score = np.mean(scores)\n",
    "std_score = np.std(scores)\n",
    "\n",
    "print('Mean Accuracy score:', mean_score * 100, '%')\n",
    "print('Standard deviation of Accuracy score:', std_score * 100, '%')"
   ]
  }
 ],
 "metadata": {
  "colab": {
   "provenance": []
  },
  "kernelspec": {
   "display_name": "Python 3 (ipykernel)",
   "language": "python",
   "name": "python3"
  },
  "language_info": {
   "codemirror_mode": {
    "name": "ipython",
    "version": 3
   },
   "file_extension": ".py",
   "mimetype": "text/x-python",
   "name": "python",
   "nbconvert_exporter": "python",
   "pygments_lexer": "ipython3",
   "version": "3.9.5"
  }
 },
 "nbformat": 4,
 "nbformat_minor": 1
}
